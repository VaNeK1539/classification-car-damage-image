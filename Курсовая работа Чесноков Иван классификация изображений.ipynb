{
 "cells": [
  {
   "cell_type": "code",
   "execution_count": 3,
   "id": "45d33b7d",
   "metadata": {},
   "outputs": [],
   "source": [
    "from torchvision import datasets, transforms, models\n",
    "import torch\n",
    "import torch.nn as nn\n",
    "import torch.optim as optim\n",
    "from torch.utils.data import DataLoader, random_split,Dataset\n",
    "import matplotlib.pyplot as plt\n",
    "import os\n",
    "from skimage import io\n",
    "import pandas as pd\n",
    "#from pyimagesearch import config\n",
    "import numpy as np\n",
    "import argparse\n",
    "import cv2\n",
    "import os\n",
    "import torch\n",
    "import torchvision\n",
    "import torchvision.datasets as datasets\n",
    "import torchvision.transforms as transforms\n",
    "import xml.etree.ElementTree as ET\n",
    "import torch\n",
    "import torch.nn as nn\n",
    "import torchvision.transforms as transforms\n",
    "import torch.optim as optim\n",
    "import numpy as np\n",
    "from torch.utils.data import Dataset, DataLoader\n",
    "from PIL import Image\n",
    "from tqdm import tqdm"
   ]
  },
  {
   "cell_type": "code",
   "execution_count": 4,
   "id": "f236d79f",
   "metadata": {},
   "outputs": [
    {
     "data": {
      "text/plain": [
       "'C:\\\\Users\\\\vanek\\\\Documents\\\\учеба\\\\4 семестр\\\\machine learning\\\\Курсовая'"
      ]
     },
     "execution_count": 4,
     "metadata": {},
     "output_type": "execute_result"
    }
   ],
   "source": [
    "os.getcwd()"
   ]
  },
  {
   "cell_type": "code",
   "execution_count": 5,
   "id": "409b3da4",
   "metadata": {},
   "outputs": [
    {
     "data": {
      "text/plain": [
       "'C:\\\\Users\\\\vanek\\\\Documents\\\\учеба\\\\4 семестр\\\\machine learning\\\\Курсовая\\\\данные'"
      ]
     },
     "execution_count": 5,
     "metadata": {},
     "output_type": "execute_result"
    }
   ],
   "source": [
    "os.chdir('данные')\n",
    "os.getcwd()"
   ]
  },
  {
   "cell_type": "code",
   "execution_count": 6,
   "id": "29b25141",
   "metadata": {},
   "outputs": [],
   "source": [
    "class car_damage(Dataset):\n",
    "    def __init__(self,excel_file,root_dir,transform = None):\n",
    "        self.annotations = pd.read_excel(excel_file)\n",
    "        self.root_dir = root_dir\n",
    "        self.transform = transform\n",
    "    \n",
    "    def __len__(self):\n",
    "        return len(self.annotations)\n",
    "    \n",
    "    def __getitem__(self,index):\n",
    "        img_path = os.path.join(self.root_dir, self.annotations.iloc[index,0])\n",
    "        image = cv2.cvtColor(cv2.imread(img_path), cv2.COLOR_BGR2RGB)#?\n",
    "        y_label = torch.tensor(int(self.annotations.iloc[index,1]))#тут у нас значения [0,1]\n",
    "        \n",
    "        if self.transform:\n",
    "            #image = self.transform(image)\n",
    "            #image = np.expand_dims(np.transpose(self.transform(image),(1,2,0)),0)\n",
    "            #image = np.transpose(self.transform(image),(1,2,0))#решил читать через cv2, поэтому тут значения поменялись\n",
    "            image = self.transform(image)\n",
    "        return (image,y_label)"
   ]
  },
  {
   "cell_type": "code",
   "execution_count": 7,
   "id": "3bea60ed",
   "metadata": {},
   "outputs": [],
   "source": [
    "DataSet = car_damage(excel_file = 'dat1.xlsx', root_dir = 'images', transform = transforms.Compose([\n",
    "    transforms.ToPILImage(),\n",
    "    transforms.Resize((254, 254)),#уменьшаю разрешение\n",
    "    transforms.ToTensor(),#привожу к тензору\n",
    "    transforms.Normalize((0.485, 0.456, 0.406), (0.229, 0.224, 0.225)),#нормализую данные\n",
    "    ]))"
   ]
  },
  {
   "cell_type": "code",
   "execution_count": 8,
   "id": "ecb3eb2f",
   "metadata": {},
   "outputs": [],
   "source": [
    "#transform = transforms.Compose([\n",
    "#     transforms.ToPILImage(),\n",
    "#     transforms.Resize((300, 300)),\n",
    "#     transforms.CenterCrop((100, 100)),\n",
    "#     transforms.RandomCrop((80, 80)),\n",
    "#     transforms.RandomHorizontalFlip(p=0.5),\n",
    "#     transforms.RandomRotation(degrees=(-90, 90)),\n",
    "#     transforms.RandomVerticalFlip(p=0.5),\n",
    "#     transforms.ToTensor(),\n",
    "#     transforms.Normalize((0.5, 0.5, 0.5), (0.5, 0.5, 0.5)),\n",
    "#     ])"
   ]
  },
  {
   "cell_type": "code",
   "execution_count": 9,
   "id": "7bd5fe6b",
   "metadata": {},
   "outputs": [],
   "source": [
    "#plt.imshow(DataSet[4][0][0])"
   ]
  },
  {
   "cell_type": "code",
   "execution_count": 10,
   "id": "1e9b08a8",
   "metadata": {},
   "outputs": [],
   "source": [
    "train_set,test_set = torch.utils.data.random_split(DataSet, [round(len(DataSet)*0.8), len(DataSet) - round(len(DataSet)*0.8)])"
   ]
  },
  {
   "cell_type": "code",
   "execution_count": 11,
   "id": "c34f03c1",
   "metadata": {},
   "outputs": [],
   "source": [
    "train_loader = DataLoader(dataset = train_set, batch_size = 8, shuffle = True)\n",
    "test_loader = DataLoader(dataset = test_set, batch_size = 8, shuffle = True)"
   ]
  },
  {
   "cell_type": "code",
   "execution_count": 12,
   "id": "189f4c4a",
   "metadata": {},
   "outputs": [],
   "source": [
    "criterion = nn.CrossEntropyLoss() #вычисляет \"перекрестную\" потерю"
   ]
  },
  {
   "cell_type": "code",
   "execution_count": 13,
   "id": "bea0626e",
   "metadata": {},
   "outputs": [],
   "source": [
    "#как я понял, либо это, либо то"
   ]
  },
  {
   "cell_type": "markdown",
   "id": "2be23479",
   "metadata": {},
   "source": [
    "**Выбор модели**"
   ]
  },
  {
   "cell_type": "code",
   "execution_count": 23,
   "id": "67ea5110",
   "metadata": {},
   "outputs": [
    {
     "name": "stderr",
     "output_type": "stream",
     "text": [
      "Using cache found in C:\\Users\\vanek/.cache\\torch\\hub\\pytorch_vision_v0.10.0\n"
     ]
    },
    {
     "data": {
      "text/plain": [
       "Linear(in_features=2048, out_features=9, bias=True)"
      ]
     },
     "execution_count": 23,
     "metadata": {},
     "output_type": "execute_result"
    }
   ],
   "source": [
    "import torchvision.models as models#\n",
    "# Определяем модель ResNet18 и оптимизатор\n",
    "model = torch.hub.load('pytorch/vision:v0.10.0', 'resnet50', pretrained=True)\n",
    "model.fc = nn.Linear(model.fc.in_features, 9) # Заменяем последний полносвязный слой на слой с 9 выходами\n",
    "model.fc"
   ]
  },
  {
   "cell_type": "code",
   "execution_count": 24,
   "id": "a217582b",
   "metadata": {},
   "outputs": [
    {
     "data": {
      "text/plain": [
       "Linear(in_features=512, out_features=9, bias=True)"
      ]
     },
     "execution_count": 24,
     "metadata": {},
     "output_type": "execute_result"
    }
   ],
   "source": [
    "from torchvision.models import resnet18\n",
    "\n",
    "model = resnet18(pretrained=True)\n",
    "model.fc = nn.Linear(model.fc.in_features, 9) # Заменяем последний полносвязный слой на слой с 9 выходами\n",
    "model.fc"
   ]
  },
  {
   "cell_type": "markdown",
   "id": "ede38e89",
   "metadata": {},
   "source": [
    "**Выбор оптимизатора**"
   ]
  },
  {
   "cell_type": "code",
   "execution_count": 25,
   "id": "3ea5126d",
   "metadata": {},
   "outputs": [],
   "source": [
    "optimizer = optim.Adam(model.parameters(), lr=0.001)\n",
    "#optimizer = optim.SGD(model.parameters(), lr=0.001, momentum=0.9)"
   ]
  },
  {
   "cell_type": "markdown",
   "id": "bdc8cfc0",
   "metadata": {},
   "source": [
    "**Подключение к видеокарте**"
   ]
  },
  {
   "cell_type": "code",
   "execution_count": 26,
   "id": "27b57ae1",
   "metadata": {},
   "outputs": [
    {
     "name": "stdout",
     "output_type": "stream",
     "text": [
      "cpu\n"
     ]
    },
    {
     "data": {
      "text/plain": [
       "CrossEntropyLoss()"
      ]
     },
     "execution_count": 26,
     "metadata": {},
     "output_type": "execute_result"
    }
   ],
   "source": [
    "import torch\n",
    "#device = torch.device(\"cpu\")\n",
    "device = torch.device(\"cuda:0\" if torch.cuda.is_available() else \"cpu\") #Была неудачная попытка установки cuda :*(\n",
    "print(device)\n",
    "model.to(device)\n",
    "criterion.to(device)"
   ]
  },
  {
   "cell_type": "code",
   "execution_count": 27,
   "id": "841059c3",
   "metadata": {},
   "outputs": [
    {
     "data": {
      "text/plain": [
       "False"
      ]
     },
     "execution_count": 27,
     "metadata": {},
     "output_type": "execute_result"
    }
   ],
   "source": [
    "torch.cuda.is_available()"
   ]
  },
  {
   "cell_type": "markdown",
   "id": "74c11011",
   "metadata": {},
   "source": [
    "**Процесс обучения модели**"
   ]
  },
  {
   "cell_type": "code",
   "execution_count": null,
   "id": "618af360",
   "metadata": {},
   "outputs": [
    {
     "name": "stderr",
     "output_type": "stream",
     "text": [
      "100%|████████████████████████████████████████████████████████████████████████████████| 409/409 [10:42<00:00,  1.57s/it]\n",
      "100%|████████████████████████████████████████████████████████████████████████████████| 103/103 [01:25<00:00,  1.21it/s]\n"
     ]
    },
    {
     "name": "stdout",
     "output_type": "stream",
     "text": [
      "Epoch 1/10, Training Loss: 0.7139, Test Accuracy: 0.6659\n"
     ]
    },
    {
     "name": "stderr",
     "output_type": "stream",
     "text": [
      "100%|████████████████████████████████████████████████████████████████████████████████| 409/409 [10:30<00:00,  1.54s/it]\n",
      "100%|████████████████████████████████████████████████████████████████████████████████| 103/103 [01:19<00:00,  1.29it/s]\n"
     ]
    },
    {
     "name": "stdout",
     "output_type": "stream",
     "text": [
      "Epoch 2/10, Training Loss: 0.6641, Test Accuracy: 0.6353\n"
     ]
    },
    {
     "name": "stderr",
     "output_type": "stream",
     "text": [
      "100%|████████████████████████████████████████████████████████████████████████████████| 409/409 [10:44<00:00,  1.58s/it]\n",
      "100%|████████████████████████████████████████████████████████████████████████████████| 103/103 [01:18<00:00,  1.31it/s]\n"
     ]
    },
    {
     "name": "stdout",
     "output_type": "stream",
     "text": [
      "Epoch 3/10, Training Loss: 0.6440, Test Accuracy: 0.5887\n"
     ]
    },
    {
     "name": "stderr",
     "output_type": "stream",
     "text": [
      "100%|████████████████████████████████████████████████████████████████████████████████| 409/409 [12:23<00:00,  1.82s/it]\n",
      "100%|████████████████████████████████████████████████████████████████████████████████| 103/103 [01:50<00:00,  1.08s/it]\n"
     ]
    },
    {
     "name": "stdout",
     "output_type": "stream",
     "text": [
      "Epoch 4/10, Training Loss: 0.6278, Test Accuracy: 0.6793\n"
     ]
    },
    {
     "name": "stderr",
     "output_type": "stream",
     "text": [
      "100%|████████████████████████████████████████████████████████████████████████████████| 409/409 [12:26<00:00,  1.83s/it]\n",
      "100%|████████████████████████████████████████████████████████████████████████████████| 103/103 [01:21<00:00,  1.27it/s]\n"
     ]
    },
    {
     "name": "stdout",
     "output_type": "stream",
     "text": [
      "Epoch 5/10, Training Loss: 0.6048, Test Accuracy: 0.6867\n"
     ]
    },
    {
     "name": "stderr",
     "output_type": "stream",
     "text": [
      " 25%|████████████████████▏                                                           | 103/409 [02:55<08:11,  1.61s/it]"
     ]
    }
   ],
   "source": [
    "from tqdm import tqdm\n",
    "num_epochs = 10\n",
    "for epoch in range(num_epochs):\n",
    "    running_loss = 0.0\n",
    "    for images, labels in tqdm(train_loader):\n",
    "        # Очищаем градиенты\n",
    "        optimizer.zero_grad()\n",
    "          # Передаем данные на устройство\n",
    "        images = images.to(device)\n",
    "        labels = labels.to(device)\n",
    "        # Прямой проход\n",
    "        outputs = model(images)\n",
    "        loss = criterion(outputs, labels)\n",
    "        \n",
    "        # Обратный проход и оптимизация\n",
    "        loss.backward()\n",
    "        optimizer.step()\n",
    "        \n",
    "        # Суммируем потери\n",
    "        running_loss += loss.item() * images.size(0)\n",
    "    \n",
    "    # Вычисляем потери на эпоху\n",
    "    epoch_loss = running_loss / len(train_set)\n",
    "    \n",
    "    # Вычисляем точность на тестовом наборе данных\n",
    "    correct = 0\n",
    "    total = 0\n",
    "    with torch.no_grad():\n",
    "        for images, labels in tqdm(test_loader):\n",
    "            images = images.to(device)\n",
    "            labels = labels.to(device)\n",
    "            outputs = model(images)\n",
    "            _, predicted = torch.max(outputs.data, 1)\n",
    "            total += labels.size(0)\n",
    "            correct += (predicted == labels).sum().item()\n",
    "    accuracy = correct / total\n",
    "    \n",
    "    # Выводим потери и точность\n",
    "    print(f'Epoch {epoch+1}/{num_epochs}, Training Loss: {epoch_loss:.4f}, Test Accuracy: {accuracy:.4f}')"
   ]
  },
  {
   "cell_type": "code",
   "execution_count": null,
   "id": "96f807b8",
   "metadata": {},
   "outputs": [],
   "source": [
    "train_losses = []\n",
    "test_losses = []\n",
    "\n",
    "for epoch in range(10):\n",
    "    train_loss = 0.0\n",
    "    test_loss = 0.0\n",
    "\n",
    "    # Обучение на train_loader\n",
    "    model.train()\n",
    "    for images, labels in tqdm(train_loader):\n",
    "        images = images.to(device)\n",
    "        labels = labels.to(device)\n",
    "\n",
    "        optimizer.zero_grad()\n",
    "\n",
    "        outputs = model(images)\n",
    "        loss = criterion(outputs, labels)\n",
    "        loss.backward()\n",
    "        optimizer.step()\n",
    "\n",
    "        train_loss += loss.item()\n",
    "\n",
    "    # Валидация на val_loader\n",
    "    model.eval()\n",
    "    with torch.no_grad():\n",
    "        for images, labels in tqdm(test_loader):\n",
    "            images = images.to(device)\n",
    "            labels = labels.to(device)\n",
    "\n",
    "            outputs = model(images)\n",
    "            loss = criterion(outputs, labels)\n",
    "\n",
    "            test_loss += loss.item()\n",
    "\n",
    "    train_losses.append(train_loss/len(train_loader))\n",
    "    test_losses.append(test_loss/len(test_loader))\n",
    "\n",
    "    print(f'Epoch {epoch+1}, Train Loss: {train_losses[-1]}, Test Loss: {test_losses[-1]}')"
   ]
  },
  {
   "cell_type": "code",
   "execution_count": null,
   "id": "392adfc3",
   "metadata": {},
   "outputs": [],
   "source": [
    "import random\n",
    "import torch\n",
    "import matplotlib.pyplot as plt\n",
    "\n",
    "# Переключаемся в режим вычислений на CPU\n",
    "device = torch.device(\"cpu\")\n",
    "\n",
    "\n",
    "\n",
    "\n",
    "\n",
    "# Выводим рандомные 5 картинок и их предсказания\n",
    "num_images = 5\n",
    "fig, axs = plt.subplots(1, num_images, figsize=(20, 5))\n",
    "for i in range(num_images):\n",
    "    idx = random.randint(0, len(images) - 1)\n",
    "    image = images[idx].squeeze().cpu().numpy()\n",
    "    axs[i].imshow(image.transpose(1, 2, 0))\n",
    "    axs[i].set_title('Predicted: {}'.format(predicted[idx]))\n",
    "    axs[i].axis('off')\n",
    "\n",
    "# Построение кривой обучения\n",
    "plt.figure(figsize=(10, 5))\n",
    "plt.plot(train_losses, label='Training Loss')\n",
    "plt.plot(test_losses, label='Validation Loss')\n",
    "plt.xlabel('Epoch')\n",
    "plt.ylabel('Loss')\n",
    "plt.legend()\n",
    "plt.show()"
   ]
  },
  {
   "cell_type": "code",
   "execution_count": null,
   "id": "cf534001",
   "metadata": {},
   "outputs": [],
   "source": [
    "from tqdm import tqdm\n",
    "num_epochs = 15\n",
    "for epoch in range(num_epochs):\n",
    "    running_loss = 0.0\n",
    "    for images, labels in tqdm(train_loader):\n",
    "        # Очищаем градиенты\n",
    "        optimizer.zero_grad()\n",
    "          # Передаем данные на устройство\n",
    "        images = images.to(device)\n",
    "        labels = labels.to(device)\n",
    "        # Прямой проход\n",
    "        outputs = model(images)\n",
    "        loss = criterion(outputs, labels)\n",
    "        \n",
    "        # Обратный проход и оптимизация\n",
    "        loss.backward()\n",
    "        optimizer.step()\n",
    "        \n",
    "        # Суммируем потери\n",
    "        running_loss += loss.item() * images.size(0)\n",
    "    \n",
    "    # Вычисляем потери на эпоху\n",
    "    epoch_loss = running_loss / len(train_dataset)\n",
    "    \n",
    "    # Вычисляем точность на тестовом наборе данных\n",
    "    correct = 0\n",
    "    total = 0\n",
    "    with torch.no_grad():\n",
    "        for images, labels in tqdm(test_loader):\n",
    "            images = images.to(device)\n",
    "            labels = labels.to(device)\n",
    "            outputs = model(images)\n",
    "            _, predicted = torch.max(outputs.data, 1)\n",
    "            total += labels.size(0)\n",
    "            correct += (predicted == labels).sum().item()\n",
    "    accuracy = correct / total\n",
    "    \n",
    "    # Выводим потери и точность\n",
    "    print(f'Epoch {epoch+1}/{num_epochs}, Training Loss: {epoch_loss:.4f}, Test Accuracy: {accuracy:.4f}')"
   ]
  },
  {
   "cell_type": "code",
   "execution_count": 1,
   "id": "997f3fc6",
   "metadata": {},
   "outputs": [
    {
     "ename": "SyntaxError",
     "evalue": "invalid syntax (2924739382.py, line 2)",
     "output_type": "error",
     "traceback": [
      "\u001b[1;36m  Cell \u001b[1;32mIn[1], line 2\u001b[1;36m\u001b[0m\n\u001b[1;33m    git remote add origin git@github.com:VaNeK1539/classification-car-damage-image.git\u001b[0m\n\u001b[1;37m        ^\u001b[0m\n\u001b[1;31mSyntaxError\u001b[0m\u001b[1;31m:\u001b[0m invalid syntax\n"
     ]
    }
   ],
   "source": [
    "import git\n",
    "git remote add origin git@github.com:VaNeK1539/classification-car-damage-image.git\n",
    "git branch -M main\n",
    "git push -u origin main"
   ]
  },
  {
   "cell_type": "code",
   "execution_count": null,
   "id": "5ced8454",
   "metadata": {},
   "outputs": [],
   "source": []
  }
 ],
 "metadata": {
  "kernelspec": {
   "display_name": "Python 3 (ipykernel)",
   "language": "python",
   "name": "python3"
  },
  "language_info": {
   "codemirror_mode": {
    "name": "ipython",
    "version": 3
   },
   "file_extension": ".py",
   "mimetype": "text/x-python",
   "name": "python",
   "nbconvert_exporter": "python",
   "pygments_lexer": "ipython3",
   "version": "3.9.13"
  }
 },
 "nbformat": 4,
 "nbformat_minor": 5
}
